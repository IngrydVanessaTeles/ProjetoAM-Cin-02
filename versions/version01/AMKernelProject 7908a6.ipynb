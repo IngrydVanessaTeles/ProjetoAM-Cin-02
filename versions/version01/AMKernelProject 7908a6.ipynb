{
 "cells": [
  {
   "cell_type": "code",
   "execution_count": null,
   "metadata": {
    "_uuid": "8f2839f25d086af736a60e9eeb907d3b93b6e0e5",
    "_cell_guid": "b1076dfc-b9ad-4769-8c92-a6c4dae69d19",
    "trusted": true
   },
   "outputs": [],
   "source": [
    "from nltk.classify.scikitlearn import SklearnClassifier\n",
    "from sklearn.naive_bayes import MultinomialNB,BernoulliNB\n",
    "from sklearn.linear_model import LogisticRegression,SGDClassifier\n",
    "from sklearn.svm import SVC, LinearSVC, NuSVC\n",
    "from sklearn import linear_model\n",
    "import nltk\n",
    "import random\n",
    "import re\n",
    "import nltk.corpus\n",
    "import sklearn\n",
    "import numpy\n",
    "import csv\n",
    "from sklearn import metrics\n",
    "import sys\n",
    "from nltk.stem.snowball import SnowballStemmer\n",
    "stemmer = SnowballStemmer(\"english\", ignore_stopwords=True) #se não ignorar os stopwords, não vai remover eles depois\n",
    "\n",
    "#inicializando bag de stopwords\n",
    "stopwords = nltk.corpus.stopwords.words('english')\n",
    "\n",
    "import os\n",
    "print(os.listdir(\"../input\"))"
   ]
  },
  {
   "cell_type": "code",
   "execution_count": null,
   "metadata": {
    "trusted": true
   },
   "outputs": [],
   "source": [
    "base = []\n",
    "csvFile = \"../input/cleandata/cleanDataTrain.csv\"\n",
    "\n",
    "baseTrain = []\n",
    "labels = []\n",
    "with open(csvFile) as csvfile:\n",
    "    import codecs\n",
    "    ifile = open(csvFile, \"rb\")\n",
    "    read = csv.reader(codecs.iterdecode(ifile, 'utf-8'))\n",
    "\n",
    "    for row in read:\n",
    "        try:\n",
    "            temp1 = row[1]\n",
    "            baseTrain.append(temp1)\n",
    "            temp2 = float(row[0])\n",
    "            labels.append(temp2)\n",
    "        except IndexError:\n",
    "            pass"
   ]
  },
  {
   "cell_type": "code",
   "execution_count": null,
   "metadata": {
    "trusted": true
   },
   "outputs": [],
   "source": [
    "baseTest = []\n",
    "csvFile = \"../input/cleandata/cleanDataTest.csv\"\n",
    "ids = []\n",
    "with open(csvFile) as csvfile:\n",
    "    import codecs\n",
    "    ifile = open(csvFile, \"rb\")\n",
    "    read = csv.reader(codecs.iterdecode(ifile, 'utf-8'))\n",
    "\n",
    "    for row in read:\n",
    "        try:\n",
    "            # Se for pegar o valor float\n",
    "            temp2 = row[0]\n",
    "            temp1 = row[1]\n",
    "            if(temp2!=\"id\"):\n",
    "                baseTest.append(temp1)\n",
    "                ids.append(temp2)\n",
    "        except IndexError:\n",
    "            pass"
   ]
  },
  {
   "cell_type": "code",
   "execution_count": null,
   "metadata": {
    "trusted": true
   },
   "outputs": [],
   "source": [
    "x = baseTrain\n",
    "y = labels"
   ]
  },
  {
   "cell_type": "code",
   "execution_count": null,
   "metadata": {
    "trusted": true
   },
   "outputs": [],
   "source": [
    "x_min = []\n",
    "y_min = []\n",
    "for u in range(len(y)):\n",
    "    if(y[u]!=0):\n",
    "        x_min.append(x[u])\n",
    "        y_min.append(y[u])"
   ]
  },
  {
   "cell_type": "code",
   "execution_count": null,
   "metadata": {
    "_cell_guid": "79c7e3d0-c299-4dcb-8224-4455121ee9b0",
    "_uuid": "d629ff2d2480ee46fbb7e2d37f6b5fab8052498a",
    "trusted": true
   },
   "outputs": [],
   "source": [
    "#from sklearn.feature_extraction.text import CountVectorizer\n",
    "#vectorizer_TF = CountVectorizer()\n",
    "#X_TF = vectorizer_TF.fit_transform(x)"
   ]
  },
  {
   "cell_type": "code",
   "execution_count": null,
   "metadata": {
    "trusted": true
   },
   "outputs": [],
   "source": [
    "from sklearn.feature_extraction.text import TfidfVectorizer\n",
    "\n",
    "vectorizer_TFIDF = TfidfVectorizer()\n",
    "X_TFIDF = vectorizer_TFIDF.fit_transform(x_min)\n",
    "X_TestTFIDF = vectorizer_TFIDF.transform(baseTest)"
   ]
  },
  {
   "cell_type": "code",
   "execution_count": null,
   "metadata": {
    "trusted": true
   },
   "outputs": [],
   "source": [
    "from sklearn import svm\n",
    "\n",
    "from sklearn.model_selection import train_test_split\n",
    "\n",
    "X_train, X_test, y_train, y_test = train_test_split(X_TFIDF, y_min, test_size=0.33, random_state=42)"
   ]
  },
  {
   "cell_type": "code",
   "execution_count": null,
   "metadata": {
    "trusted": true
   },
   "outputs": [],
   "source": [
    "#clf = svm.SVR()\n",
    "clf = linear_model.LinearRegression()\n",
    "clf.fit(X_train,y_train)"
   ]
  },
  {
   "cell_type": "code",
   "execution_count": null,
   "metadata": {
    "trusted": true
   },
   "outputs": [],
   "source": [
    "from sklearn.metrics import mean_squared_error\n",
    "y_pred = clf.predict(X_test)\n",
    "mse = mean_squared_error(y_test, y_pred)  \n",
    "with open('mse_result2.csv', mode='w') as employee_file:\n",
    "    writer = csv.writer(employee_file, delimiter=',', quotechar='\"', quoting=csv.QUOTE_MINIMAL)\n",
    "    writer.writerow([\"Linear Regression\"])\n",
    "    writer.writerow([\"mse: \", mse])"
   ]
  },
  {
   "cell_type": "code",
   "execution_count": null,
   "metadata": {
    "trusted": true
   },
   "outputs": [],
   "source": [
    "y_pred_test = clf.predict(X_TestTFIDF)\n",
    "with open('submission.csv', mode='w') as employee_file:\n",
    "    \n",
    "    writer = csv.writer(employee_file, delimiter=',', quotechar='\"', quoting=csv.QUOTE_MINIMAL)\n",
    "    writer.writerow([\"id\", \"prediction\"])\n",
    "    for id in range(len(ids)):\n",
    "        writer.writerow([ids[id], y_pred_test[id]])"
   ]
  }
 ],
 "metadata": {
  "kernelspec": {
   "display_name": "Python 3",
   "language": "python",
   "name": "python3"
  },
  "language_info": {
   "name": "python",
   "version": "3.6.4",
   "mimetype": "text/x-python",
   "codemirror_mode": {
    "name": "ipython",
    "version": 3
   },
   "pygments_lexer": "ipython3",
   "nbconvert_exporter": "python",
   "file_extension": ".py"
  }
 },
 "nbformat": 4,
 "nbformat_minor": 1
}
